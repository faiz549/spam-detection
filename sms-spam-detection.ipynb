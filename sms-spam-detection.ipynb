{
 "cells": [
  {
   "cell_type": "code",
   "execution_count": 1,
   "id": "0308cd9e",
   "metadata": {
    "execution": {
     "iopub.execute_input": "2024-03-17T11:50:48.671849Z",
     "iopub.status.busy": "2024-03-17T11:50:48.671414Z",
     "iopub.status.idle": "2024-03-17T11:51:25.086635Z",
     "shell.execute_reply": "2024-03-17T11:51:25.085004Z"
    },
    "papermill": {
     "duration": 36.439638,
     "end_time": "2024-03-17T11:51:25.099214",
     "exception": false,
     "start_time": "2024-03-17T11:50:48.659576",
     "status": "completed"
    },
    "tags": []
   },
   "outputs": [
    {
     "name": "stdout",
     "output_type": "stream",
     "text": [
      "Requirement already satisfied: pandas in /opt/conda/lib/python3.10/site-packages (2.2.0)\r\n",
      "Requirement already satisfied: numpy in /opt/conda/lib/python3.10/site-packages (1.26.4)\r\n",
      "Requirement already satisfied: nltk in /opt/conda/lib/python3.10/site-packages (3.2.4)\r\n",
      "Requirement already satisfied: scikit-learn in /opt/conda/lib/python3.10/site-packages (1.2.2)\r\n",
      "Requirement already satisfied: python-dateutil>=2.8.2 in /opt/conda/lib/python3.10/site-packages (from pandas) (2.8.2)\r\n",
      "Requirement already satisfied: pytz>=2020.1 in /opt/conda/lib/python3.10/site-packages (from pandas) (2023.3.post1)\r\n",
      "Requirement already satisfied: tzdata>=2022.7 in /opt/conda/lib/python3.10/site-packages (from pandas) (2023.4)\r\n",
      "Requirement already satisfied: six in /opt/conda/lib/python3.10/site-packages (from nltk) (1.16.0)\r\n",
      "Requirement already satisfied: scipy>=1.3.2 in /opt/conda/lib/python3.10/site-packages (from scikit-learn) (1.11.4)\r\n",
      "Requirement already satisfied: joblib>=1.1.1 in /opt/conda/lib/python3.10/site-packages (from scikit-learn) (1.3.2)\r\n",
      "Requirement already satisfied: threadpoolctl>=2.0.0 in /opt/conda/lib/python3.10/site-packages (from scikit-learn) (3.2.0)\r\n",
      "Note: you may need to restart the kernel to use updated packages.\n"
     ]
    }
   ],
   "source": [
    "%pip install pandas numpy nltk scikit-learn"
   ]
  },
  {
   "cell_type": "markdown",
   "id": "346a1fe3",
   "metadata": {
    "papermill": {
     "duration": 0.00946,
     "end_time": "2024-03-17T11:51:25.118584",
     "exception": false,
     "start_time": "2024-03-17T11:51:25.109124",
     "status": "completed"
    },
    "tags": []
   },
   "source": [
    "#import modules"
   ]
  },
  {
   "cell_type": "code",
   "execution_count": 2,
   "id": "322661e7",
   "metadata": {
    "execution": {
     "iopub.execute_input": "2024-03-17T11:51:25.140422Z",
     "iopub.status.busy": "2024-03-17T11:51:25.139932Z",
     "iopub.status.idle": "2024-03-17T11:51:28.282006Z",
     "shell.execute_reply": "2024-03-17T11:51:28.280640Z"
    },
    "papermill": {
     "duration": 3.15678,
     "end_time": "2024-03-17T11:51:28.285128",
     "exception": false,
     "start_time": "2024-03-17T11:51:25.128348",
     "status": "completed"
    },
    "tags": []
   },
   "outputs": [],
   "source": [
    "import pandas as pd\n",
    "import numpy as np\n",
    "import nltk"
   ]
  },
  {
   "cell_type": "markdown",
   "id": "e0adfe72",
   "metadata": {
    "papermill": {
     "duration": 0.009482,
     "end_time": "2024-03-17T11:51:28.304601",
     "exception": false,
     "start_time": "2024-03-17T11:51:28.295119",
     "status": "completed"
    },
    "tags": []
   },
   "source": [
    "#read dataset"
   ]
  },
  {
   "cell_type": "code",
   "execution_count": 3,
   "id": "839bfc01",
   "metadata": {
    "execution": {
     "iopub.execute_input": "2024-03-17T11:51:28.326456Z",
     "iopub.status.busy": "2024-03-17T11:51:28.325766Z",
     "iopub.status.idle": "2024-03-17T11:51:28.382653Z",
     "shell.execute_reply": "2024-03-17T11:51:28.381406Z"
    },
    "papermill": {
     "duration": 0.070984,
     "end_time": "2024-03-17T11:51:28.385260",
     "exception": false,
     "start_time": "2024-03-17T11:51:28.314276",
     "status": "completed"
    },
    "tags": []
   },
   "outputs": [
    {
     "data": {
      "text/html": [
       "<div>\n",
       "<style scoped>\n",
       "    .dataframe tbody tr th:only-of-type {\n",
       "        vertical-align: middle;\n",
       "    }\n",
       "\n",
       "    .dataframe tbody tr th {\n",
       "        vertical-align: top;\n",
       "    }\n",
       "\n",
       "    .dataframe thead th {\n",
       "        text-align: right;\n",
       "    }\n",
       "</style>\n",
       "<table border=\"1\" class=\"dataframe\">\n",
       "  <thead>\n",
       "    <tr style=\"text-align: right;\">\n",
       "      <th></th>\n",
       "      <th>v1</th>\n",
       "      <th>v2</th>\n",
       "      <th>Unnamed: 2</th>\n",
       "      <th>Unnamed: 3</th>\n",
       "      <th>Unnamed: 4</th>\n",
       "    </tr>\n",
       "  </thead>\n",
       "  <tbody>\n",
       "    <tr>\n",
       "      <th>0</th>\n",
       "      <td>ham</td>\n",
       "      <td>Go until jurong point, crazy.. Available only ...</td>\n",
       "      <td>NaN</td>\n",
       "      <td>NaN</td>\n",
       "      <td>NaN</td>\n",
       "    </tr>\n",
       "    <tr>\n",
       "      <th>1</th>\n",
       "      <td>ham</td>\n",
       "      <td>Ok lar... Joking wif u oni...</td>\n",
       "      <td>NaN</td>\n",
       "      <td>NaN</td>\n",
       "      <td>NaN</td>\n",
       "    </tr>\n",
       "    <tr>\n",
       "      <th>2</th>\n",
       "      <td>spam</td>\n",
       "      <td>Free entry in 2 a wkly comp to win FA Cup fina...</td>\n",
       "      <td>NaN</td>\n",
       "      <td>NaN</td>\n",
       "      <td>NaN</td>\n",
       "    </tr>\n",
       "    <tr>\n",
       "      <th>3</th>\n",
       "      <td>ham</td>\n",
       "      <td>U dun say so early hor... U c already then say...</td>\n",
       "      <td>NaN</td>\n",
       "      <td>NaN</td>\n",
       "      <td>NaN</td>\n",
       "    </tr>\n",
       "    <tr>\n",
       "      <th>4</th>\n",
       "      <td>ham</td>\n",
       "      <td>Nah I don't think he goes to usf, he lives aro...</td>\n",
       "      <td>NaN</td>\n",
       "      <td>NaN</td>\n",
       "      <td>NaN</td>\n",
       "    </tr>\n",
       "  </tbody>\n",
       "</table>\n",
       "</div>"
      ],
      "text/plain": [
       "     v1                                                 v2 Unnamed: 2  \\\n",
       "0   ham  Go until jurong point, crazy.. Available only ...        NaN   \n",
       "1   ham                      Ok lar... Joking wif u oni...        NaN   \n",
       "2  spam  Free entry in 2 a wkly comp to win FA Cup fina...        NaN   \n",
       "3   ham  U dun say so early hor... U c already then say...        NaN   \n",
       "4   ham  Nah I don't think he goes to usf, he lives aro...        NaN   \n",
       "\n",
       "  Unnamed: 3 Unnamed: 4  \n",
       "0        NaN        NaN  \n",
       "1        NaN        NaN  \n",
       "2        NaN        NaN  \n",
       "3        NaN        NaN  \n",
       "4        NaN        NaN  "
      ]
     },
     "execution_count": 3,
     "metadata": {},
     "output_type": "execute_result"
    }
   ],
   "source": [
    "df=pd.read_csv(\"/kaggle/input/sms-spam-collection-dataset/spam.csv\", encoding=\"latin-1\")\n",
    "df.head()\n"
   ]
  },
  {
   "cell_type": "code",
   "execution_count": 4,
   "id": "8a3d66d9",
   "metadata": {
    "execution": {
     "iopub.execute_input": "2024-03-17T11:51:28.408201Z",
     "iopub.status.busy": "2024-03-17T11:51:28.407302Z",
     "iopub.status.idle": "2024-03-17T11:51:28.413627Z",
     "shell.execute_reply": "2024-03-17T11:51:28.412658Z"
    },
    "papermill": {
     "duration": 0.02014,
     "end_time": "2024-03-17T11:51:28.415737",
     "exception": false,
     "start_time": "2024-03-17T11:51:28.395597",
     "status": "completed"
    },
    "tags": []
   },
   "outputs": [
    {
     "data": {
      "text/plain": [
       "(5572, 5)"
      ]
     },
     "execution_count": 4,
     "metadata": {},
     "output_type": "execute_result"
    }
   ],
   "source": [
    "df.shape"
   ]
  },
  {
   "cell_type": "code",
   "execution_count": 5,
   "id": "fb9485f5",
   "metadata": {
    "execution": {
     "iopub.execute_input": "2024-03-17T11:51:28.439432Z",
     "iopub.status.busy": "2024-03-17T11:51:28.438630Z",
     "iopub.status.idle": "2024-03-17T11:51:28.449284Z",
     "shell.execute_reply": "2024-03-17T11:51:28.448046Z"
    },
    "papermill": {
     "duration": 0.026501,
     "end_time": "2024-03-17T11:51:28.452310",
     "exception": false,
     "start_time": "2024-03-17T11:51:28.425809",
     "status": "completed"
    },
    "tags": []
   },
   "outputs": [],
   "source": [
    "df1=df.drop(columns=['Unnamed: 2', 'Unnamed: 3', 'Unnamed: 4'], inplace=False) \n",
    "#dropping the columns with no use but for a new df. if inplace is True, it will drop the columns from the original df\n"
   ]
  },
  {
   "cell_type": "code",
   "execution_count": 6,
   "id": "295ac23c",
   "metadata": {
    "execution": {
     "iopub.execute_input": "2024-03-17T11:51:28.474789Z",
     "iopub.status.busy": "2024-03-17T11:51:28.474324Z",
     "iopub.status.idle": "2024-03-17T11:51:28.493027Z",
     "shell.execute_reply": "2024-03-17T11:51:28.491870Z"
    },
    "papermill": {
     "duration": 0.033052,
     "end_time": "2024-03-17T11:51:28.495585",
     "exception": false,
     "start_time": "2024-03-17T11:51:28.462533",
     "status": "completed"
    },
    "tags": []
   },
   "outputs": [
    {
     "data": {
      "text/html": [
       "<div>\n",
       "<style scoped>\n",
       "    .dataframe tbody tr th:only-of-type {\n",
       "        vertical-align: middle;\n",
       "    }\n",
       "\n",
       "    .dataframe tbody tr th {\n",
       "        vertical-align: top;\n",
       "    }\n",
       "\n",
       "    .dataframe thead th {\n",
       "        text-align: right;\n",
       "    }\n",
       "</style>\n",
       "<table border=\"1\" class=\"dataframe\">\n",
       "  <thead>\n",
       "    <tr style=\"text-align: right;\">\n",
       "      <th></th>\n",
       "      <th>class</th>\n",
       "      <th>message</th>\n",
       "    </tr>\n",
       "  </thead>\n",
       "  <tbody>\n",
       "    <tr>\n",
       "      <th>5360</th>\n",
       "      <td>ham</td>\n",
       "      <td>Hey, iouri gave me your number, I'm wylie, rya...</td>\n",
       "    </tr>\n",
       "    <tr>\n",
       "      <th>1442</th>\n",
       "      <td>ham</td>\n",
       "      <td>Its ok., i just askd did u knw tht no?</td>\n",
       "    </tr>\n",
       "    <tr>\n",
       "      <th>3541</th>\n",
       "      <td>ham</td>\n",
       "      <td>ÌÏ come lt 25 n pass to me lar</td>\n",
       "    </tr>\n",
       "    <tr>\n",
       "      <th>3368</th>\n",
       "      <td>ham</td>\n",
       "      <td>Sorry i've not gone to that place. I.ll do so ...</td>\n",
       "    </tr>\n",
       "    <tr>\n",
       "      <th>147</th>\n",
       "      <td>ham</td>\n",
       "      <td>Ummma.will call after check in.our life will b...</td>\n",
       "    </tr>\n",
       "  </tbody>\n",
       "</table>\n",
       "</div>"
      ],
      "text/plain": [
       "     class                                            message\n",
       "5360   ham  Hey, iouri gave me your number, I'm wylie, rya...\n",
       "1442   ham             Its ok., i just askd did u knw tht no?\n",
       "3541   ham                     ÌÏ come lt 25 n pass to me lar\n",
       "3368   ham  Sorry i've not gone to that place. I.ll do so ...\n",
       "147    ham  Ummma.will call after check in.our life will b..."
      ]
     },
     "execution_count": 6,
     "metadata": {},
     "output_type": "execute_result"
    }
   ],
   "source": [
    "df1.rename(columns={'v1':'class','v2':'message'},inplace=True)\n",
    "df1.sample(5)"
   ]
  },
  {
   "cell_type": "code",
   "execution_count": 7,
   "id": "0eac031f",
   "metadata": {
    "execution": {
     "iopub.execute_input": "2024-03-17T11:51:28.519200Z",
     "iopub.status.busy": "2024-03-17T11:51:28.518695Z",
     "iopub.status.idle": "2024-03-17T11:51:28.564207Z",
     "shell.execute_reply": "2024-03-17T11:51:28.563022Z"
    },
    "papermill": {
     "duration": 0.060672,
     "end_time": "2024-03-17T11:51:28.566775",
     "exception": false,
     "start_time": "2024-03-17T11:51:28.506103",
     "status": "completed"
    },
    "tags": []
   },
   "outputs": [
    {
     "data": {
      "text/html": [
       "<div>\n",
       "<style scoped>\n",
       "    .dataframe tbody tr th:only-of-type {\n",
       "        vertical-align: middle;\n",
       "    }\n",
       "\n",
       "    .dataframe tbody tr th {\n",
       "        vertical-align: top;\n",
       "    }\n",
       "\n",
       "    .dataframe thead tr th {\n",
       "        text-align: left;\n",
       "    }\n",
       "\n",
       "    .dataframe thead tr:last-of-type th {\n",
       "        text-align: right;\n",
       "    }\n",
       "</style>\n",
       "<table border=\"1\" class=\"dataframe\">\n",
       "  <thead>\n",
       "    <tr>\n",
       "      <th></th>\n",
       "      <th colspan=\"4\" halign=\"left\">message</th>\n",
       "    </tr>\n",
       "    <tr>\n",
       "      <th></th>\n",
       "      <th>count</th>\n",
       "      <th>unique</th>\n",
       "      <th>top</th>\n",
       "      <th>freq</th>\n",
       "    </tr>\n",
       "    <tr>\n",
       "      <th>class</th>\n",
       "      <th></th>\n",
       "      <th></th>\n",
       "      <th></th>\n",
       "      <th></th>\n",
       "    </tr>\n",
       "  </thead>\n",
       "  <tbody>\n",
       "    <tr>\n",
       "      <th>ham</th>\n",
       "      <td>4825</td>\n",
       "      <td>4516</td>\n",
       "      <td>Sorry, I'll call later</td>\n",
       "      <td>30</td>\n",
       "    </tr>\n",
       "    <tr>\n",
       "      <th>spam</th>\n",
       "      <td>747</td>\n",
       "      <td>653</td>\n",
       "      <td>Please call our customer service representativ...</td>\n",
       "      <td>4</td>\n",
       "    </tr>\n",
       "  </tbody>\n",
       "</table>\n",
       "</div>"
      ],
      "text/plain": [
       "      message                                                               \n",
       "        count unique                                                top freq\n",
       "class                                                                       \n",
       "ham      4825   4516                             Sorry, I'll call later   30\n",
       "spam      747    653  Please call our customer service representativ...    4"
      ]
     },
     "execution_count": 7,
     "metadata": {},
     "output_type": "execute_result"
    }
   ],
   "source": [
    "df1.groupby('class').describe()"
   ]
  },
  {
   "cell_type": "code",
   "execution_count": 8,
   "id": "0be9a02f",
   "metadata": {
    "execution": {
     "iopub.execute_input": "2024-03-17T11:51:28.590355Z",
     "iopub.status.busy": "2024-03-17T11:51:28.589589Z",
     "iopub.status.idle": "2024-03-17T11:51:28.619065Z",
     "shell.execute_reply": "2024-03-17T11:51:28.617861Z"
    },
    "papermill": {
     "duration": 0.04522,
     "end_time": "2024-03-17T11:51:28.622619",
     "exception": false,
     "start_time": "2024-03-17T11:51:28.577399",
     "status": "completed"
    },
    "tags": []
   },
   "outputs": [
    {
     "data": {
      "text/html": [
       "<div>\n",
       "<style scoped>\n",
       "    .dataframe tbody tr th:only-of-type {\n",
       "        vertical-align: middle;\n",
       "    }\n",
       "\n",
       "    .dataframe tbody tr th {\n",
       "        vertical-align: top;\n",
       "    }\n",
       "\n",
       "    .dataframe thead tr th {\n",
       "        text-align: left;\n",
       "    }\n",
       "\n",
       "    .dataframe thead tr:last-of-type th {\n",
       "        text-align: right;\n",
       "    }\n",
       "</style>\n",
       "<table border=\"1\" class=\"dataframe\">\n",
       "  <thead>\n",
       "    <tr>\n",
       "      <th></th>\n",
       "      <th colspan=\"4\" halign=\"left\">message</th>\n",
       "    </tr>\n",
       "    <tr>\n",
       "      <th></th>\n",
       "      <th>count</th>\n",
       "      <th>unique</th>\n",
       "      <th>top</th>\n",
       "      <th>freq</th>\n",
       "    </tr>\n",
       "    <tr>\n",
       "      <th>class</th>\n",
       "      <th></th>\n",
       "      <th></th>\n",
       "      <th></th>\n",
       "      <th></th>\n",
       "    </tr>\n",
       "  </thead>\n",
       "  <tbody>\n",
       "    <tr>\n",
       "      <th>ham</th>\n",
       "      <td>4516</td>\n",
       "      <td>4516</td>\n",
       "      <td>Go until jurong point, crazy.. Available only ...</td>\n",
       "      <td>1</td>\n",
       "    </tr>\n",
       "    <tr>\n",
       "      <th>spam</th>\n",
       "      <td>653</td>\n",
       "      <td>653</td>\n",
       "      <td>Free entry in 2 a wkly comp to win FA Cup fina...</td>\n",
       "      <td>1</td>\n",
       "    </tr>\n",
       "  </tbody>\n",
       "</table>\n",
       "</div>"
      ],
      "text/plain": [
       "      message                                                               \n",
       "        count unique                                                top freq\n",
       "class                                                                       \n",
       "ham      4516   4516  Go until jurong point, crazy.. Available only ...    1\n",
       "spam      653    653  Free entry in 2 a wkly comp to win FA Cup fina...    1"
      ]
     },
     "execution_count": 8,
     "metadata": {},
     "output_type": "execute_result"
    }
   ],
   "source": [
    "df2=df1.drop_duplicates(keep='first')\n",
    "df2.groupby('class').describe()"
   ]
  },
  {
   "cell_type": "markdown",
   "id": "88557190",
   "metadata": {
    "papermill": {
     "duration": 0.011319,
     "end_time": "2024-03-17T11:51:28.645702",
     "exception": false,
     "start_time": "2024-03-17T11:51:28.634383",
     "status": "completed"
    },
    "tags": []
   },
   "source": [
    "#data visualization"
   ]
  },
  {
   "cell_type": "code",
   "execution_count": 9,
   "id": "7415f611",
   "metadata": {
    "execution": {
     "iopub.execute_input": "2024-03-17T11:51:28.671149Z",
     "iopub.status.busy": "2024-03-17T11:51:28.670119Z",
     "iopub.status.idle": "2024-03-17T11:51:28.688613Z",
     "shell.execute_reply": "2024-03-17T11:51:28.687504Z"
    },
    "papermill": {
     "duration": 0.03597,
     "end_time": "2024-03-17T11:51:28.693150",
     "exception": false,
     "start_time": "2024-03-17T11:51:28.657180",
     "status": "completed"
    },
    "tags": []
   },
   "outputs": [
    {
     "name": "stderr",
     "output_type": "stream",
     "text": [
      "/tmp/ipykernel_18/1290390370.py:1: SettingWithCopyWarning: \n",
      "A value is trying to be set on a copy of a slice from a DataFrame.\n",
      "Try using .loc[row_indexer,col_indexer] = value instead\n",
      "\n",
      "See the caveats in the documentation: https://pandas.pydata.org/pandas-docs/stable/user_guide/indexing.html#returning-a-view-versus-a-copy\n",
      "  df2['length']=df2['message'].apply(len) #adding a new column to the df with the length of the message\n"
     ]
    },
    {
     "data": {
      "text/html": [
       "<div>\n",
       "<style scoped>\n",
       "    .dataframe tbody tr th:only-of-type {\n",
       "        vertical-align: middle;\n",
       "    }\n",
       "\n",
       "    .dataframe tbody tr th {\n",
       "        vertical-align: top;\n",
       "    }\n",
       "\n",
       "    .dataframe thead th {\n",
       "        text-align: right;\n",
       "    }\n",
       "</style>\n",
       "<table border=\"1\" class=\"dataframe\">\n",
       "  <thead>\n",
       "    <tr style=\"text-align: right;\">\n",
       "      <th></th>\n",
       "      <th>class</th>\n",
       "      <th>message</th>\n",
       "      <th>length</th>\n",
       "    </tr>\n",
       "  </thead>\n",
       "  <tbody>\n",
       "    <tr>\n",
       "      <th>0</th>\n",
       "      <td>ham</td>\n",
       "      <td>Go until jurong point, crazy.. Available only ...</td>\n",
       "      <td>111</td>\n",
       "    </tr>\n",
       "    <tr>\n",
       "      <th>1</th>\n",
       "      <td>ham</td>\n",
       "      <td>Ok lar... Joking wif u oni...</td>\n",
       "      <td>29</td>\n",
       "    </tr>\n",
       "    <tr>\n",
       "      <th>2</th>\n",
       "      <td>spam</td>\n",
       "      <td>Free entry in 2 a wkly comp to win FA Cup fina...</td>\n",
       "      <td>155</td>\n",
       "    </tr>\n",
       "    <tr>\n",
       "      <th>3</th>\n",
       "      <td>ham</td>\n",
       "      <td>U dun say so early hor... U c already then say...</td>\n",
       "      <td>49</td>\n",
       "    </tr>\n",
       "    <tr>\n",
       "      <th>4</th>\n",
       "      <td>ham</td>\n",
       "      <td>Nah I don't think he goes to usf, he lives aro...</td>\n",
       "      <td>61</td>\n",
       "    </tr>\n",
       "  </tbody>\n",
       "</table>\n",
       "</div>"
      ],
      "text/plain": [
       "  class                                            message  length\n",
       "0   ham  Go until jurong point, crazy.. Available only ...     111\n",
       "1   ham                      Ok lar... Joking wif u oni...      29\n",
       "2  spam  Free entry in 2 a wkly comp to win FA Cup fina...     155\n",
       "3   ham  U dun say so early hor... U c already then say...      49\n",
       "4   ham  Nah I don't think he goes to usf, he lives aro...      61"
      ]
     },
     "execution_count": 9,
     "metadata": {},
     "output_type": "execute_result"
    }
   ],
   "source": [
    "df2['length']=df2['message'].apply(len) #adding a new column to the df with the length of the message\n",
    "df2.head()"
   ]
  },
  {
   "cell_type": "code",
   "execution_count": 10,
   "id": "bfeca1f6",
   "metadata": {
    "execution": {
     "iopub.execute_input": "2024-03-17T11:51:28.719157Z",
     "iopub.status.busy": "2024-03-17T11:51:28.718031Z",
     "iopub.status.idle": "2024-03-17T11:51:29.547889Z",
     "shell.execute_reply": "2024-03-17T11:51:29.546467Z"
    },
    "papermill": {
     "duration": 0.846796,
     "end_time": "2024-03-17T11:51:29.551694",
     "exception": false,
     "start_time": "2024-03-17T11:51:28.704898",
     "status": "completed"
    },
    "tags": []
   },
   "outputs": [
    {
     "data": {
      "text/plain": [
       "array([<Axes: title={'center': 'ham'}>, <Axes: title={'center': 'spam'}>],\n",
       "      dtype=object)"
      ]
     },
     "execution_count": 10,
     "metadata": {},
     "output_type": "execute_result"
    },
    {
     "data": {
      "image/png": "[encoded data removed]",
      "text/plain": [
       "<Figure size 900x300 with 2 Axes>"
      ]
     },
     "metadata": {},
     "output_type": "display_data"
    }
   ],
   "source": [
    "df2.hist(column='length',by='class',bins=60,figsize=(9,3)) \n",
    "#plotting the length of the messages by class bins is the number of bars"
   ]
  },
  {
   "cell_type": "markdown",
   "id": "5b483bf9",
   "metadata": {
    "papermill": {
     "duration": 0.016766,
     "end_time": "2024-03-17T11:51:29.585661",
     "exception": false,
     "start_time": "2024-03-17T11:51:29.568895",
     "status": "completed"
    },
    "tags": []
   },
   "source": [
    "#preprocessing"
   ]
  },
  {
   "cell_type": "code",
   "execution_count": 11,
   "id": "c25325b5",
   "metadata": {
    "execution": {
     "iopub.execute_input": "2024-03-17T11:51:29.615128Z",
     "iopub.status.busy": "2024-03-17T11:51:29.614062Z",
     "iopub.status.idle": "2024-03-17T11:52:09.708383Z",
     "shell.execute_reply": "2024-03-17T11:52:09.707216Z"
    },
    "papermill": {
     "duration": 40.122743,
     "end_time": "2024-03-17T11:52:09.722926",
     "exception": false,
     "start_time": "2024-03-17T11:51:29.600183",
     "status": "completed"
    },
    "tags": []
   },
   "outputs": [
    {
     "name": "stdout",
     "output_type": "stream",
     "text": [
      "[nltk_data] Error loading stopwords: <urlopen error [Errno -3]\n",
      "[nltk_data]     Temporary failure in name resolution>\n",
      "[nltk_data] Error loading punkt: <urlopen error [Errno -3] Temporary\n",
      "[nltk_data]     failure in name resolution>\n"
     ]
    },
    {
     "data": {
      "text/plain": [
       "False"
      ]
     },
     "execution_count": 11,
     "metadata": {},
     "output_type": "execute_result"
    }
   ],
   "source": [
    "from nltk.stem.porter import PorterStemmer as ps  #importing the stemmer which is used to reduce the words to their root form\n",
    "\n",
    "nltk.download('stopwords') #stopwords are the words which are not useful in the text analysis like 'the', 'is', 'are' etc\n",
    "from nltk.corpus import stopwords\n",
    "\n",
    "nltk.download('punkt')  #punkt is used to tokenize the words in a sentence\n"
   ]
  },
  {
   "cell_type": "code",
   "execution_count": 12,
   "id": "edce7e0b",
   "metadata": {
    "execution": {
     "iopub.execute_input": "2024-03-17T11:52:09.749972Z",
     "iopub.status.busy": "2024-03-17T11:52:09.748693Z",
     "iopub.status.idle": "2024-03-17T11:52:09.761136Z",
     "shell.execute_reply": "2024-03-17T11:52:09.759932Z"
    },
    "papermill": {
     "duration": 0.028333,
     "end_time": "2024-03-17T11:52:09.763430",
     "exception": false,
     "start_time": "2024-03-17T11:52:09.735097",
     "status": "completed"
    },
    "tags": []
   },
   "outputs": [
    {
     "data": {
      "text/html": [
       "<div>\n",
       "<style scoped>\n",
       "    .dataframe tbody tr th:only-of-type {\n",
       "        vertical-align: middle;\n",
       "    }\n",
       "\n",
       "    .dataframe tbody tr th {\n",
       "        vertical-align: top;\n",
       "    }\n",
       "\n",
       "    .dataframe thead th {\n",
       "        text-align: right;\n",
       "    }\n",
       "</style>\n",
       "<table border=\"1\" class=\"dataframe\">\n",
       "  <thead>\n",
       "    <tr style=\"text-align: right;\">\n",
       "      <th></th>\n",
       "      <th>class</th>\n",
       "      <th>message</th>\n",
       "      <th>length</th>\n",
       "    </tr>\n",
       "  </thead>\n",
       "  <tbody>\n",
       "    <tr>\n",
       "      <th>0</th>\n",
       "      <td>ham</td>\n",
       "      <td>Go until jurong point, crazy.. Available only ...</td>\n",
       "      <td>111</td>\n",
       "    </tr>\n",
       "    <tr>\n",
       "      <th>1</th>\n",
       "      <td>ham</td>\n",
       "      <td>Ok lar... Joking wif u oni...</td>\n",
       "      <td>29</td>\n",
       "    </tr>\n",
       "    <tr>\n",
       "      <th>2</th>\n",
       "      <td>spam</td>\n",
       "      <td>Free entry in 2 a wkly comp to win FA Cup fina...</td>\n",
       "      <td>155</td>\n",
       "    </tr>\n",
       "    <tr>\n",
       "      <th>3</th>\n",
       "      <td>ham</td>\n",
       "      <td>U dun say so early hor... U c already then say...</td>\n",
       "      <td>49</td>\n",
       "    </tr>\n",
       "    <tr>\n",
       "      <th>4</th>\n",
       "      <td>ham</td>\n",
       "      <td>Nah I don't think he goes to usf, he lives aro...</td>\n",
       "      <td>61</td>\n",
       "    </tr>\n",
       "  </tbody>\n",
       "</table>\n",
       "</div>"
      ],
      "text/plain": [
       "  class                                            message  length\n",
       "0   ham  Go until jurong point, crazy.. Available only ...     111\n",
       "1   ham                      Ok lar... Joking wif u oni...      29\n",
       "2  spam  Free entry in 2 a wkly comp to win FA Cup fina...     155\n",
       "3   ham  U dun say so early hor... U c already then say...      49\n",
       "4   ham  Nah I don't think he goes to usf, he lives aro...      61"
      ]
     },
     "execution_count": 12,
     "metadata": {},
     "output_type": "execute_result"
    }
   ],
   "source": [
    "df2.head()"
   ]
  },
  {
   "cell_type": "markdown",
   "id": "74a31527",
   "metadata": {
    "papermill": {
     "duration": 0.012203,
     "end_time": "2024-03-17T11:52:09.788388",
     "exception": false,
     "start_time": "2024-03-17T11:52:09.776185",
     "status": "completed"
    },
    "tags": []
   },
   "source": [
    "preprocessing tasks\n",
    "\n",
    "-lowercase\n",
    "-tokenization\n",
    "-removing special characters\n",
    "-removing stop words\n",
    "-stemming"
   ]
  },
  {
   "cell_type": "code",
   "execution_count": 13,
   "id": "5a36660a",
   "metadata": {
    "execution": {
     "iopub.execute_input": "2024-03-17T11:52:09.816135Z",
     "iopub.status.busy": "2024-03-17T11:52:09.815687Z",
     "iopub.status.idle": "2024-03-17T11:52:09.825529Z",
     "shell.execute_reply": "2024-03-17T11:52:09.824093Z"
    },
    "papermill": {
     "duration": 0.026132,
     "end_time": "2024-03-17T11:52:09.827865",
     "exception": false,
     "start_time": "2024-03-17T11:52:09.801733",
     "status": "completed"
    },
    "tags": []
   },
   "outputs": [],
   "source": [
    "import string\n",
    "\n",
    "def clean_text(text):\n",
    "    text=text.lower()\n",
    "    text=nltk.word_tokenize(text) #tokenizing the words\n",
    "\n",
    "    #removing the stopwords and punctuations\n",
    "    y=[]\n",
    "    for i in text:\n",
    "        if i.isalnum(): #removing the punctuations\n",
    "            y.append(i)\n",
    "    \n",
    "    text=y[:] #copying the list to text\n",
    "    y.clear() #clearing the list\n",
    "\n",
    "    for i in text:\n",
    "        #check if a stopword or not and punctuation or not. if not both append to list\n",
    "        if i not in stopwords.words('english') and i not in string.punctuation:\n",
    "            y.append(i)\n",
    "\n",
    "    text=y[:] #copying the list to text\n",
    "    y.clear()\n",
    "\n",
    "    for i in text:\n",
    "        y.append(ps().stem(i)) #stemming (reducing the words to their root form) then appending to list\n",
    "\n",
    "    return \" \".join(y) #joining the list to form a sentence\n",
    "    "
   ]
  },
  {
   "cell_type": "code",
   "execution_count": 14,
   "id": "0bbcd87d",
   "metadata": {
    "execution": {
     "iopub.execute_input": "2024-03-17T11:52:09.854695Z",
     "iopub.status.busy": "2024-03-17T11:52:09.854263Z",
     "iopub.status.idle": "2024-03-17T11:52:25.344942Z",
     "shell.execute_reply": "2024-03-17T11:52:25.343651Z"
    },
    "papermill": {
     "duration": 15.507374,
     "end_time": "2024-03-17T11:52:25.347652",
     "exception": false,
     "start_time": "2024-03-17T11:52:09.840278",
     "status": "completed"
    },
    "tags": []
   },
   "outputs": [
    {
     "name": "stderr",
     "output_type": "stream",
     "text": [
      "/tmp/ipykernel_18/3559807073.py:1: SettingWithCopyWarning: \n",
      "A value is trying to be set on a copy of a slice from a DataFrame.\n",
      "Try using .loc[row_indexer,col_indexer] = value instead\n",
      "\n",
      "See the caveats in the documentation: https://pandas.pydata.org/pandas-docs/stable/user_guide/indexing.html#returning-a-view-versus-a-copy\n",
      "  df2['sms_cleaned'] =df2['message'].apply(clean_text) #applying the function to the message column\n"
     ]
    }
   ],
   "source": [
    "df2['sms_cleaned'] =df2['message'].apply(clean_text) #applying the function to the message column\n"
   ]
  },
  {
   "cell_type": "code",
   "execution_count": 15,
   "id": "6a56513f",
   "metadata": {
    "execution": {
     "iopub.execute_input": "2024-03-17T11:52:25.375867Z",
     "iopub.status.busy": "2024-03-17T11:52:25.374966Z",
     "iopub.status.idle": "2024-03-17T11:52:25.387292Z",
     "shell.execute_reply": "2024-03-17T11:52:25.386389Z"
    },
    "papermill": {
     "duration": 0.029267,
     "end_time": "2024-03-17T11:52:25.389698",
     "exception": false,
     "start_time": "2024-03-17T11:52:25.360431",
     "status": "completed"
    },
    "tags": []
   },
   "outputs": [
    {
     "data": {
      "text/html": [
       "<div>\n",
       "<style scoped>\n",
       "    .dataframe tbody tr th:only-of-type {\n",
       "        vertical-align: middle;\n",
       "    }\n",
       "\n",
       "    .dataframe tbody tr th {\n",
       "        vertical-align: top;\n",
       "    }\n",
       "\n",
       "    .dataframe thead th {\n",
       "        text-align: right;\n",
       "    }\n",
       "</style>\n",
       "<table border=\"1\" class=\"dataframe\">\n",
       "  <thead>\n",
       "    <tr style=\"text-align: right;\">\n",
       "      <th></th>\n",
       "      <th>class</th>\n",
       "      <th>message</th>\n",
       "      <th>length</th>\n",
       "      <th>sms_cleaned</th>\n",
       "    </tr>\n",
       "  </thead>\n",
       "  <tbody>\n",
       "    <tr>\n",
       "      <th>0</th>\n",
       "      <td>ham</td>\n",
       "      <td>Go until jurong point, crazy.. Available only ...</td>\n",
       "      <td>111</td>\n",
       "      <td>go jurong point avail bugi n great world la e ...</td>\n",
       "    </tr>\n",
       "    <tr>\n",
       "      <th>1</th>\n",
       "      <td>ham</td>\n",
       "      <td>Ok lar... Joking wif u oni...</td>\n",
       "      <td>29</td>\n",
       "      <td>ok lar joke wif u oni</td>\n",
       "    </tr>\n",
       "    <tr>\n",
       "      <th>2</th>\n",
       "      <td>spam</td>\n",
       "      <td>Free entry in 2 a wkly comp to win FA Cup fina...</td>\n",
       "      <td>155</td>\n",
       "      <td>free entri 2 wkli comp win fa cup final tkt 21...</td>\n",
       "    </tr>\n",
       "    <tr>\n",
       "      <th>3</th>\n",
       "      <td>ham</td>\n",
       "      <td>U dun say so early hor... U c already then say...</td>\n",
       "      <td>49</td>\n",
       "      <td>u dun say earli hor u c alreadi say</td>\n",
       "    </tr>\n",
       "    <tr>\n",
       "      <th>4</th>\n",
       "      <td>ham</td>\n",
       "      <td>Nah I don't think he goes to usf, he lives aro...</td>\n",
       "      <td>61</td>\n",
       "      <td>nah think goe usf live around though</td>\n",
       "    </tr>\n",
       "  </tbody>\n",
       "</table>\n",
       "</div>"
      ],
      "text/plain": [
       "  class                                            message  length  \\\n",
       "0   ham  Go until jurong point, crazy.. Available only ...     111   \n",
       "1   ham                      Ok lar... Joking wif u oni...      29   \n",
       "2  spam  Free entry in 2 a wkly comp to win FA Cup fina...     155   \n",
       "3   ham  U dun say so early hor... U c already then say...      49   \n",
       "4   ham  Nah I don't think he goes to usf, he lives aro...      61   \n",
       "\n",
       "                                         sms_cleaned  \n",
       "0  go jurong point avail bugi n great world la e ...  \n",
       "1                              ok lar joke wif u oni  \n",
       "2  free entri 2 wkli comp win fa cup final tkt 21...  \n",
       "3                u dun say earli hor u c alreadi say  \n",
       "4               nah think goe usf live around though  "
      ]
     },
     "execution_count": 15,
     "metadata": {},
     "output_type": "execute_result"
    }
   ],
   "source": [
    "df2.head(5)"
   ]
  },
  {
   "cell_type": "markdown",
   "id": "602d6923",
   "metadata": {
    "papermill": {
     "duration": 0.013558,
     "end_time": "2024-03-17T11:52:25.416151",
     "exception": false,
     "start_time": "2024-03-17T11:52:25.402593",
     "status": "completed"
    },
    "tags": []
   },
   "source": [
    "#feature extraction"
   ]
  },
  {
   "cell_type": "code",
   "execution_count": 16,
   "id": "88b6b946",
   "metadata": {
    "execution": {
     "iopub.execute_input": "2024-03-17T11:52:25.446619Z",
     "iopub.status.busy": "2024-03-17T11:52:25.445131Z",
     "iopub.status.idle": "2024-03-17T11:52:25.451275Z",
     "shell.execute_reply": "2024-03-17T11:52:25.450237Z"
    },
    "papermill": {
     "duration": 0.023485,
     "end_time": "2024-03-17T11:52:25.453649",
     "exception": false,
     "start_time": "2024-03-17T11:52:25.430164",
     "status": "completed"
    },
    "tags": []
   },
   "outputs": [],
   "source": [
    "from sklearn.feature_extraction.text import TfidfVectorizer"
   ]
  },
  {
   "cell_type": "code",
   "execution_count": 17,
   "id": "89936f32",
   "metadata": {
    "execution": {
     "iopub.execute_input": "2024-03-17T11:52:25.482492Z",
     "iopub.status.busy": "2024-03-17T11:52:25.481527Z",
     "iopub.status.idle": "2024-03-17T11:52:25.730690Z",
     "shell.execute_reply": "2024-03-17T11:52:25.729361Z"
    },
    "papermill": {
     "duration": 0.266566,
     "end_time": "2024-03-17T11:52:25.733707",
     "exception": false,
     "start_time": "2024-03-17T11:52:25.467141",
     "status": "completed"
    },
    "tags": []
   },
   "outputs": [],
   "source": [
    "tf_vec = TfidfVectorizer(max_features=3000) #taking the top 3000 features\n",
    "X=tf_vec.fit_transform(df2['sms_cleaned']).toarray() #converting the text to array\n"
   ]
  },
  {
   "cell_type": "code",
   "execution_count": 18,
   "id": "943bd938",
   "metadata": {
    "execution": {
     "iopub.execute_input": "2024-03-17T11:52:25.761777Z",
     "iopub.status.busy": "2024-03-17T11:52:25.761290Z",
     "iopub.status.idle": "2024-03-17T11:52:25.768634Z",
     "shell.execute_reply": "2024-03-17T11:52:25.767504Z"
    },
    "papermill": {
     "duration": 0.024322,
     "end_time": "2024-03-17T11:52:25.771177",
     "exception": false,
     "start_time": "2024-03-17T11:52:25.746855",
     "status": "completed"
    },
    "tags": []
   },
   "outputs": [
    {
     "data": {
      "text/plain": [
       "(5169, 3000)"
      ]
     },
     "execution_count": 18,
     "metadata": {},
     "output_type": "execute_result"
    }
   ],
   "source": [
    "X.shape \n",
    "#columns and rows representing the number of messages and the number of words respectively"
   ]
  },
  {
   "cell_type": "code",
   "execution_count": 19,
   "id": "f696ca81",
   "metadata": {
    "execution": {
     "iopub.execute_input": "2024-03-17T11:52:25.800904Z",
     "iopub.status.busy": "2024-03-17T11:52:25.800214Z",
     "iopub.status.idle": "2024-03-17T11:52:25.805007Z",
     "shell.execute_reply": "2024-03-17T11:52:25.803910Z"
    },
    "papermill": {
     "duration": 0.022851,
     "end_time": "2024-03-17T11:52:25.807505",
     "exception": false,
     "start_time": "2024-03-17T11:52:25.784654",
     "status": "completed"
    },
    "tags": []
   },
   "outputs": [],
   "source": [
    "Y=df2['class'].values #taking the class column as the target variable"
   ]
  },
  {
   "cell_type": "markdown",
   "id": "3c6e8285",
   "metadata": {
    "papermill": {
     "duration": 0.013566,
     "end_time": "2024-03-17T11:52:25.834427",
     "exception": false,
     "start_time": "2024-03-17T11:52:25.820861",
     "status": "completed"
    },
    "tags": []
   },
   "source": [
    "#Learning"
   ]
  },
  {
   "cell_type": "code",
   "execution_count": 20,
   "id": "2fe93d36",
   "metadata": {
    "execution": {
     "iopub.execute_input": "2024-03-17T11:52:25.863984Z",
     "iopub.status.busy": "2024-03-17T11:52:25.863198Z",
     "iopub.status.idle": "2024-03-17T11:52:25.947585Z",
     "shell.execute_reply": "2024-03-17T11:52:25.946301Z"
    },
    "papermill": {
     "duration": 0.102953,
     "end_time": "2024-03-17T11:52:25.950581",
     "exception": false,
     "start_time": "2024-03-17T11:52:25.847628",
     "status": "completed"
    },
    "tags": []
   },
   "outputs": [],
   "source": [
    "\n",
    "from sklearn.model_selection import train_test_split \n",
    "X_train,X_test,y_train,y_test= train_test_split(X,Y,test_size=0.2,random_state=2)"
   ]
  },
  {
   "cell_type": "code",
   "execution_count": 21,
   "id": "070ac31d",
   "metadata": {
    "execution": {
     "iopub.execute_input": "2024-03-17T11:52:25.979760Z",
     "iopub.status.busy": "2024-03-17T11:52:25.978958Z",
     "iopub.status.idle": "2024-03-17T11:52:26.062064Z",
     "shell.execute_reply": "2024-03-17T11:52:26.060203Z"
    },
    "papermill": {
     "duration": 0.104321,
     "end_time": "2024-03-17T11:52:26.067882",
     "exception": false,
     "start_time": "2024-03-17T11:52:25.963561",
     "status": "completed"
    },
    "tags": []
   },
   "outputs": [
    {
     "data": {
      "text/html": [
       "<style>#sk-container-id-1 {color: black;background-color: white;}#sk-container-id-1 pre{padding: 0;}#sk-container-id-1 div.sk-toggleable {background-color: white;}#sk-container-id-1 label.sk-toggleable__label {cursor: pointer;display: block;width: 100%;margin-bottom: 0;padding: 0.3em;box-sizing: border-box;text-align: center;}#sk-container-id-1 label.sk-toggleable__label-arrow:before {content: \"▸\";float: left;margin-right: 0.25em;color: #696969;}#sk-container-id-1 label.sk-toggleable__label-arrow:hover:before {color: black;}#sk-container-id-1 div.sk-estimator:hover label.sk-toggleable__label-arrow:before {color: black;}#sk-container-id-1 div.sk-toggleable__content {max-height: 0;max-width: 0;overflow: hidden;text-align: left;background-color: #f0f8ff;}#sk-container-id-1 div.sk-toggleable__content pre {margin: 0.2em;color: black;border-radius: 0.25em;background-color: #f0f8ff;}#sk-container-id-1 input.sk-toggleable__control:checked~div.sk-toggleable__content {max-height: 200px;max-width: 100%;overflow: auto;}#sk-container-id-1 input.sk-toggleable__control:checked~label.sk-toggleable__label-arrow:before {content: \"▾\";}#sk-container-id-1 div.sk-estimator input.sk-toggleable__control:checked~label.sk-toggleable__label {background-color: #d4ebff;}#sk-container-id-1 div.sk-label input.sk-toggleable__control:checked~label.sk-toggleable__label {background-color: #d4ebff;}#sk-container-id-1 input.sk-hidden--visually {border: 0;clip: rect(1px 1px 1px 1px);clip: rect(1px, 1px, 1px, 1px);height: 1px;margin: -1px;overflow: hidden;padding: 0;position: absolute;width: 1px;}#sk-container-id-1 div.sk-estimator {font-family: monospace;background-color: #f0f8ff;border: 1px dotted black;border-radius: 0.25em;box-sizing: border-box;margin-bottom: 0.5em;}#sk-container-id-1 div.sk-estimator:hover {background-color: #d4ebff;}#sk-container-id-1 div.sk-parallel-item::after {content: \"\";width: 100%;border-bottom: 1px solid gray;flex-grow: 1;}#sk-container-id-1 div.sk-label:hover label.sk-toggleable__label {background-color: #d4ebff;}#sk-container-id-1 div.sk-serial::before {content: \"\";position: absolute;border-left: 1px solid gray;box-sizing: border-box;top: 0;bottom: 0;left: 50%;z-index: 0;}#sk-container-id-1 div.sk-serial {display: flex;flex-direction: column;align-items: center;background-color: white;padding-right: 0.2em;padding-left: 0.2em;position: relative;}#sk-container-id-1 div.sk-item {position: relative;z-index: 1;}#sk-container-id-1 div.sk-parallel {display: flex;align-items: stretch;justify-content: center;background-color: white;position: relative;}#sk-container-id-1 div.sk-item::before, #sk-container-id-1 div.sk-parallel-item::before {content: \"\";position: absolute;border-left: 1px solid gray;box-sizing: border-box;top: 0;bottom: 0;left: 50%;z-index: -1;}#sk-container-id-1 div.sk-parallel-item {display: flex;flex-direction: column;z-index: 1;position: relative;background-color: white;}#sk-container-id-1 div.sk-parallel-item:first-child::after {align-self: flex-end;width: 50%;}#sk-container-id-1 div.sk-parallel-item:last-child::after {align-self: flex-start;width: 50%;}#sk-container-id-1 div.sk-parallel-item:only-child::after {width: 0;}#sk-container-id-1 div.sk-dashed-wrapped {border: 1px dashed gray;margin: 0 0.4em 0.5em 0.4em;box-sizing: border-box;padding-bottom: 0.4em;background-color: white;}#sk-container-id-1 div.sk-label label {font-family: monospace;font-weight: bold;display: inline-block;line-height: 1.2em;}#sk-container-id-1 div.sk-label-container {text-align: center;}#sk-container-id-1 div.sk-container {/* jupyter's `normalize.less` sets `[hidden] { display: none; }` but bootstrap.min.css set `[hidden] { display: none !important; }` so we also need the `!important` here to be able to override the default hidden behavior on the sphinx rendered scikit-learn.org. See: https://github.com/scikit-learn/scikit-learn/issues/21755 */display: inline-block !important;position: relative;}#sk-container-id-1 div.sk-text-repr-fallback {display: none;}</style><div id=\"sk-container-id-1\" class=\"sk-top-container\"><div class=\"sk-text-repr-fallback\"><pre>MultinomialNB()</pre><b>In a Jupyter environment, please rerun this cell to show the HTML representation or trust the notebook. <br />On GitHub, the HTML representation is unable to render, please try loading this page with nbviewer.org.</b></div><div class=\"sk-container\" hidden><div class=\"sk-item\"><div class=\"sk-estimator sk-toggleable\"><input class=\"sk-toggleable__control sk-hidden--visually\" id=\"sk-estimator-id-1\" type=\"checkbox\" checked><label for=\"sk-estimator-id-1\" class=\"sk-toggleable__label sk-toggleable__label-arrow\">MultinomialNB</label><div class=\"sk-toggleable__content\"><pre>MultinomialNB()</pre></div></div></div></div></div>"
      ],
      "text/plain": [
       "MultinomialNB()"
      ]
     },
     "execution_count": 21,
     "metadata": {},
     "output_type": "execute_result"
    }
   ],
   "source": [
    "from sklearn.naive_bayes import MultinomialNB #importing the model\n",
    "\n",
    "model=MultinomialNB()\n",
    "model.fit(X_train,y_train) #learn the relationship between x,y"
   ]
  },
  {
   "cell_type": "code",
   "execution_count": 22,
   "id": "4c6c0b0f",
   "metadata": {
    "execution": {
     "iopub.execute_input": "2024-03-17T11:52:26.127508Z",
     "iopub.status.busy": "2024-03-17T11:52:26.126744Z",
     "iopub.status.idle": "2024-03-17T11:52:26.151264Z",
     "shell.execute_reply": "2024-03-17T11:52:26.150060Z"
    },
    "papermill": {
     "duration": 0.059263,
     "end_time": "2024-03-17T11:52:26.155559",
     "exception": false,
     "start_time": "2024-03-17T11:52:26.096296",
     "status": "completed"
    },
    "tags": []
   },
   "outputs": [
    {
     "name": "stdout",
     "output_type": "stream",
     "text": [
      "0.9729206963249516\n"
     ]
    }
   ],
   "source": [
    "from sklearn.metrics import accuracy_score\n",
    "\n",
    "y_pred=model.predict(X_test) #predict the target variable for the test data\n",
    "print(accuracy_score(y_test,y_pred))\n"
   ]
  }
 ],
 "metadata": {
  "kaggle": {
   "accelerator": "none",
   "dataSources": [
    {
     "datasetId": 483,
     "sourceId": 982,
     "sourceType": "datasetVersion"
    }
   ],
   "dockerImageVersionId": 30664,
   "isGpuEnabled": false,
   "isInternetEnabled": false,
   "language": "python",
   "sourceType": "notebook"
  },
  "kernelspec": {
   "display_name": "Python 3",
   "language": "python",
   "name": "python3"
  },
  "language_info": {
   "codemirror_mode": {
    "name": "ipython",
    "version": 3
   },
   "file_extension": ".py",
   "mimetype": "text/x-python",
   "name": "python",
   "nbconvert_exporter": "python",
   "pygments_lexer": "ipython3",
   "version": "3.10.13"
  },
  "papermill": {
   "default_parameters": {},
   "duration": 101.57561,
   "end_time": "2024-03-17T11:52:27.015030",
   "environment_variables": {},
   "exception": null,
   "input_path": "__notebook__.ipynb",
   "output_path": "__notebook__.ipynb",
   "parameters": {},
   "start_time": "2024-03-17T11:50:45.439420",
   "version": "2.5.0"
  }
 },
 "nbformat": 4,
 "nbformat_minor": 5
}
